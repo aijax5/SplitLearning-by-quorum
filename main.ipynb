{
 "nbformat": 4,
 "nbformat_minor": 2,
 "metadata": {
  "language_info": {
   "name": "python",
   "codemirror_mode": {
    "name": "ipython",
    "version": 3
   },
   "version": "3.6.8-final"
  },
  "orig_nbformat": 2,
  "file_extension": ".py",
  "mimetype": "text/x-python",
  "name": "python",
  "npconvert_exporter": "python",
  "pygments_lexer": "ipython3",
  "version": 3,
  "kernelspec": {
   "name": "python36864bitmlvenvvirtualenv7d88894919b14083a2990028bc2685ff",
   "display_name": "Python 3.6.8 64-bit ('ml_venv': virtualenv)"
  }
 },
 "cells": [
  {
   "cell_type": "code",
   "execution_count": 4,
   "metadata": {},
   "outputs": [],
   "source": [
    "import tensorflow as tf\n",
    "from tensorflow import keras\n",
    "from tensorflow.keras import metrics"
   ]
  },
  {
   "cell_type": "code",
   "execution_count": 2,
   "metadata": {},
   "outputs": [],
   "source": [
    "class NN:\n",
    "    def  __init__(self,data,target,hl):\n",
    "        m,n = data.shape()\n",
    "        self.cols = n\n",
    "        self.rows = m\n",
    "        self.hiddenLayers = hl\n",
    "\n",
    "    def create(self):\n",
    "        inp_layer = [keras.layers.Dense(self.cols, input_shape = (self.cols,))]\n",
    "        hidden_layers = [keras.layers.Dense(units=l, activation='relu') for l in self.hiddenLayers]\n",
    "        op_layer = [keras.layers.Dense(units=1, activation='softmax')]\n",
    "        self.model = keras.Sequential(inp_layer+hidden_layers+op_layer)\n",
    "\n",
    "        self.model.compile(loss='mean_squared_error',\n",
    "                    optimizer='sgd',\n",
    "                    metrics=[metrics.mae, metrics.categorical_accuracy])\n",
    "\n",
    "    def fit(self,epochs,steps):\n",
    "         model.fit(\n",
    "            train_dataset.repeat(), \n",
    "            epochs=epochs, \n",
    "            steps_per_epoch=1, # FIX: verify how and when steps per epoch is used\n",
    "            validation_data=val_dataset.repeat(), \n",
    "            validation_steps=steps)\n",
    "\n"
   ]
  }
 ]
}